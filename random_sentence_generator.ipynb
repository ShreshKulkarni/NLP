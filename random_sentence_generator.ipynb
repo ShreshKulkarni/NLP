{
 "cells": [
  {
   "cell_type": "code",
   "execution_count": 1,
   "metadata": {
    "collapsed": true
   },
   "outputs": [],
   "source": [
    "import nltk"
   ]
  },
  {
   "cell_type": "code",
   "execution_count": 2,
   "metadata": {},
   "outputs": [
    {
     "name": "stdout",
     "output_type": "stream",
     "text": [
      "*** Introductory Examples for the NLTK Book ***\n",
      "Loading text1, ..., text9 and sent1, ..., sent9\n",
      "Type the name of the text or sentence to view it.\n",
      "Type: 'texts()' or 'sents()' to list the materials.\n",
      "text1: Moby Dick by Herman Melville 1851\n",
      "text2: Sense and Sensibility by Jane Austen 1811\n",
      "text3: The Book of Genesis\n",
      "text4: Inaugural Address Corpus\n",
      "text5: Chat Corpus\n",
      "text6: Monty Python and the Holy Grail\n",
      "text7: Wall Street Journal\n",
      "text8: Personals Corpus\n",
      "text9: The Man Who Was Thursday by G . K . Chesterton 1908\n"
     ]
    }
   ],
   "source": [
    "from nltk.book import *"
   ]
  },
  {
   "cell_type": "code",
   "execution_count": 3,
   "metadata": {},
   "outputs": [
    {
     "data": {
      "text/plain": [
       "141576"
      ]
     },
     "execution_count": 3,
     "metadata": {},
     "output_type": "execute_result"
    }
   ],
   "source": [
    "len(text2.tokens)"
   ]
  },
  {
   "cell_type": "code",
   "execution_count": 4,
   "metadata": {},
   "outputs": [
    {
     "data": {
      "text/plain": [
       "45010"
      ]
     },
     "execution_count": 4,
     "metadata": {},
     "output_type": "execute_result"
    }
   ],
   "source": [
    "len(text5.tokens)"
   ]
  },
  {
   "cell_type": "code",
   "execution_count": 5,
   "metadata": {},
   "outputs": [
    {
     "data": {
      "text/plain": [
       "16967"
      ]
     },
     "execution_count": 5,
     "metadata": {},
     "output_type": "execute_result"
    }
   ],
   "source": [
    "len(text6.tokens)"
   ]
  },
  {
   "cell_type": "code",
   "execution_count": 6,
   "metadata": {},
   "outputs": [
    {
     "data": {
      "text/plain": [
       "203553"
      ]
     },
     "execution_count": 6,
     "metadata": {},
     "output_type": "execute_result"
    }
   ],
   "source": [
    "#1. Combining the given texts\n",
    "raw_text = text2.tokens\n",
    "raw_text.extend(text5.tokens)\n",
    "raw_text.extend(text6.tokens)\n",
    "len(raw_text)"
   ]
  },
  {
   "cell_type": "code",
   "execution_count": 7,
   "metadata": {},
   "outputs": [
    {
     "data": {
      "text/plain": [
       "0.09578622816032888"
      ]
     },
     "execution_count": 7,
     "metadata": {},
     "output_type": "execute_result"
    }
   ],
   "source": [
    "#creating conditional frequency distribution from bigrams\n",
    "bigrams = list(nltk.bigrams(raw_text))\n",
    "cfd_bigrams_rawText = nltk.ConditionalFreqDist(bigrams)\n",
    "cfd_bigrams_rawText['to'].freq('be')"
   ]
  },
  {
   "cell_type": "code",
   "execution_count": 8,
   "metadata": {
    "collapsed": true
   },
   "outputs": [],
   "source": [
    "#Incorporating laplace smoothing\n",
    "vocab = set(raw_text)\n",
    "rawtext_laplace_cfd = nltk.ConditionalProbDist(cfd_bigrams_rawText,nltk.LaplaceProbDist,bins = len(vocab))"
   ]
  },
  {
   "cell_type": "code",
   "execution_count": 9,
   "metadata": {},
   "outputs": [
    {
     "data": {
      "text/plain": [
       "['engage', 'a', 'supply', 'whom', 'bequeath']"
      ]
     },
     "execution_count": 9,
     "metadata": {},
     "output_type": "execute_result"
    }
   ],
   "source": [
    "list(rawtext_laplace_cfd['to'].samples())[:5]"
   ]
  },
  {
   "cell_type": "code",
   "execution_count": 10,
   "metadata": {},
   "outputs": [
    {
     "data": {
      "text/plain": [
       "'be'"
      ]
     },
     "execution_count": 10,
     "metadata": {},
     "output_type": "execute_result"
    }
   ],
   "source": [
    "rawtext_laplace_cfd['to'].max()"
   ]
  },
  {
   "cell_type": "code",
   "execution_count": 11,
   "metadata": {},
   "outputs": [
    {
     "data": {
      "text/plain": [
       "0.027311538686472892"
      ]
     },
     "execution_count": 11,
     "metadata": {},
     "output_type": "execute_result"
    }
   ],
   "source": [
    "rawtext_laplace_cfd['to'].prob('be')"
   ]
  },
  {
   "cell_type": "code",
   "execution_count": 12,
   "metadata": {
    "collapsed": true
   },
   "outputs": [],
   "source": [
    "import random\n",
    "def generate_model(condFreqDist,word,max_words,sel_strategy):\n",
    "    #x = None\n",
    "    for i in range(0,max_words):\n",
    "        print(word, end=' ')\n",
    "        if sel_strategy == 0:\n",
    "            word = condFreqDist[word].max()\n",
    "        elif sel_strategy == 1:\n",
    "            word = random.sample(condFreqDist[word].samples(),1)[0]\n",
    "        elif sel_strategy == 2:\n",
    "            \"\"\"if x is None:\n",
    "                x = set()\n",
    "                while(True):\n",
    "                    x.add(random.uniform(0,1))\n",
    "                    if len(x) >= max_words:\n",
    "                        break\"\"\"\n",
    "            x = random.uniform(0,1)\n",
    "            cumu_prob = 0.0\n",
    "            for item in condFreqDist[word].samples():\n",
    "                cumu_prob += condFreqDist[word].prob(item)\n",
    "                if x < cumu_prob:\n",
    "                    word = item\n",
    "                    break\n",
    "        else:\n",
    "            print(\"Unidentified selection strategy\")\n",
    "        \n",
    "        if word == '.':\n",
    "            print(word)\n",
    "            break\n",
    "            "
   ]
  },
  {
   "cell_type": "code",
   "execution_count": 13,
   "metadata": {},
   "outputs": [
    {
     "name": "stdout",
     "output_type": "stream",
     "text": [
      "We have been so much more than she had been so much more than she had been so much more than she had been so much more than she had been so much more than she had been so much "
     ]
    }
   ],
   "source": [
    "generate_model(rawtext_laplace_cfd,'We',40,0)\n"
   ]
  },
  {
   "cell_type": "code",
   "execution_count": 14,
   "metadata": {},
   "outputs": [
    {
     "name": "stdout",
     "output_type": "stream",
     "text": [
      "We cannot descend to try ebay always thinking wisconsin ? can touch her fruity friend must long indeed since .\" Astonished and already acknowledged as had intuitively taken such wit that about an indulgence of country canvassing against my other "
     ]
    }
   ],
   "source": [
    "generate_model(rawtext_laplace_cfd,'We',40,1)"
   ]
  },
  {
   "cell_type": "code",
   "execution_count": 125,
   "metadata": {},
   "outputs": [
    {
     "name": "stdout",
     "output_type": "stream",
     "text": [
      "We shall shall shall shall shall shall shall shall shall shall shall shall shall shall shall shall shall shall shall "
     ]
    }
   ],
   "source": [
    "generate_model(rawtext_laplace_cfd,'We',20,2)"
   ]
  },
  {
   "cell_type": "code",
   "execution_count": null,
   "metadata": {
    "collapsed": true
   },
   "outputs": [],
   "source": []
  },
  {
   "cell_type": "code",
   "execution_count": null,
   "metadata": {
    "collapsed": true
   },
   "outputs": [],
   "source": []
  }
 ],
 "metadata": {
  "kernelspec": {
   "display_name": "Python 3",
   "language": "python",
   "name": "python3"
  },
  "language_info": {
   "codemirror_mode": {
    "name": "ipython",
    "version": 3
   },
   "file_extension": ".py",
   "mimetype": "text/x-python",
   "name": "python",
   "nbconvert_exporter": "python",
   "pygments_lexer": "ipython3",
   "version": "3.6.1"
  }
 },
 "nbformat": 4,
 "nbformat_minor": 2
}
